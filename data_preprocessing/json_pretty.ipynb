{
 "cells": [
  {
   "cell_type": "code",
   "execution_count": 5,
   "source": [
    "import json\n",
    "\n",
    "f = open('../dataset/hotpot_dev_distractor_v1.json')\n",
    "parsed = json.load(f)\n",
    "f.close()\n",
    "\n",
    "# processed = json.dumps(parsed, indent=4)\n",
    "# print(processed)\n",
    "\n",
    "with open(\"../dataset/processed_hotpot_dev_distractor_v1.json\", \"w\") as outfile:\n",
    "    json.dump(parsed, outfile, indent = 4)"
   ],
   "outputs": [],
   "metadata": {}
  },
  {
   "cell_type": "code",
   "execution_count": 6,
   "source": [
    "f = open('../dataset/hotpot_dev_fullwiki_v1.json')\n",
    "parsed = json.load(f)\n",
    "f.close()\n",
    "\n",
    "# processed = json.dumps(parsed, indent=4)\n",
    "# print(processed)\n",
    "\n",
    "with open(\"../dataset/processed_hotpot_dev_fullwiki_v1.json\", \"w\") as outfile:\n",
    "    json.dump(parsed, outfile, indent = 4)"
   ],
   "outputs": [],
   "metadata": {}
  },
  {
   "cell_type": "code",
   "execution_count": 2,
   "source": [
    "import json\n",
    "\n",
    "f = open('../dataset/hotpot_test_fullwiki_v1.json')\n",
    "parsed = json.load(f)\n",
    "f.close()\n",
    "\n",
    "# processed = json.dumps(parsed, indent=4)\n",
    "# print(processed)\n",
    "\n",
    "with open(\"../dataset/processed_hotpot_test_fullwiki_v1.json\", \"w\") as outfile:\n",
    "    json.dump(parsed, outfile, indent = 4)"
   ],
   "outputs": [],
   "metadata": {}
  },
  {
   "cell_type": "code",
   "execution_count": 3,
   "source": [
    "f = open('../dataset/hotpot_train_v1.1.json')\n",
    "parsed = json.load(f)\n",
    "f.close()\n",
    "\n",
    "# processed = json.dumps(parsed, indent=4)\n",
    "# print(processed)\n",
    "\n",
    "with open(\"../dataset/processed_hotpot_train_v1.1.json\", \"w\") as outfile:\n",
    "    json.dump(parsed, outfile, indent = 4)"
   ],
   "outputs": [],
   "metadata": {}
  },
  {
   "cell_type": "code",
   "execution_count": null,
   "source": [],
   "outputs": [],
   "metadata": {}
  }
 ],
 "metadata": {
  "orig_nbformat": 4,
  "language_info": {
   "name": "python",
   "version": "3.8.10",
   "mimetype": "text/x-python",
   "codemirror_mode": {
    "name": "ipython",
    "version": 3
   },
   "pygments_lexer": "ipython3",
   "nbconvert_exporter": "python",
   "file_extension": ".py"
  },
  "kernelspec": {
   "name": "python3",
   "display_name": "Python 3.8.10 64-bit"
  },
  "interpreter": {
   "hash": "31f2aee4e71d21fbe5cf8b01ff0e069b9275f58929596ceb00d14d90e3e16cd6"
  }
 },
 "nbformat": 4,
 "nbformat_minor": 2
}