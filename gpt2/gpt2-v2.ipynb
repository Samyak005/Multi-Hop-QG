{
  "nbformat": 4,
  "nbformat_minor": 0,
  "metadata": {
    "colab": {
      "name": "Untitled",
      "provenance": []
    },
    "kernelspec": {
      "name": "python3",
      "display_name": "Python 3"
    },
    "language_info": {
      "name": "python"
    },
    "accelerator": "GPU"
  },
  "cells": [
    {
      "cell_type": "code",
      "metadata": {
        "id": "9GjOP_qxa7-a"
      },
      "source": [
        "import pandas as pd\n",
        "colnames = ['_id', 'answer', 'question', 'supporting_facts', 'context', 'type', 'level']\n",
        "url = \"http://curtis.ml.cmu.edu/datasets/hotpot/hotpot_dev_distractor_v1.json\"\n",
        "data = pd.read_json(url)"
      ],
      "execution_count": null,
      "outputs": []
    },
    {
      "cell_type": "code",
      "metadata": {
        "colab": {
          "base_uri": "https://localhost:8080/"
        },
        "id": "o4aNsGWxbJeM",
        "outputId": "a5114366-7b9d-4cd5-d8a8-580849d15887"
      },
      "source": [
        "dataset = \"\"\n",
        "\n",
        "questions=data.question.tolist()\n",
        "answers=data.answer.tolist()\n",
        "contexts = data.context.tolist()\n",
        "\n",
        "c1, q, a, e, c2 = \"<|startoftext|>\\n[CONTEXT1]: \",  \"\\n[QUESTION]:\", \"\\n[ANSWER]:\", \"\\n<|endoftext|>\\n\", \"\\n[CONTEXT2]:\"\n",
        "\n",
        "len(contexts)\n",
        "contexts[0][0][1]\n",
        "questions[0]\n",
        "answers[0]\n",
        "len(questions)\n",
        "\n"
      ],
      "execution_count": null,
      "outputs": [
        {
          "output_type": "execute_result",
          "data": {
            "text/plain": [
              "7405"
            ]
          },
          "metadata": {},
          "execution_count": 2
        }
      ]
    },
    {
      "cell_type": "code",
      "metadata": {
        "id": "gd9HOxNHbLW_"
      },
      "source": [
        "index = 0\n",
        "#while (index <10):\n",
        "while(index<100):\n",
        "  context1 = contexts[index][0][1]\n",
        "  context1S = ''.join(map(str, context1)) \n",
        "  dataset+=c1+context1S\n",
        "\n",
        "  context2 = contexts[index][1][1]\n",
        "  context2S = ''.join(map(str, context2)) \n",
        "  dataset+=c2+context2S\n",
        "\n",
        "  question = questions[index]\n",
        "  questionS = ''.join(map(str, question)) \n",
        "  dataset+=q+questions[index]\n",
        "\n",
        "  #ans = answers[index]\n",
        "  #ansS = ''.join(map(str, ans)) \n",
        "  dataset+=a+answers[index]\n",
        "  \n",
        "  #dataset+=a+answers[index]\n",
        "  dataset+=e\n",
        "  index=index+1\n",
        "#print(dataset)"
      ],
      "execution_count": null,
      "outputs": []
    },
    {
      "cell_type": "code",
      "metadata": {
        "id": "ar79bIxNbOGC"
      },
      "source": [
        "f = open(\"QAdataset_100.txt\",\"w+\")\n",
        "f.write(dataset)\n",
        "f.close()"
      ],
      "execution_count": null,
      "outputs": []
    },
    {
      "cell_type": "code",
      "metadata": {
        "id": "6IwEcFBIbxgG"
      },
      "source": [
        "!pip install -q gpt-2-simple\n",
        "import gpt_2_simple as gpt2\n",
        "from datetime import datetime\n",
        "from google.colab import files"
      ],
      "execution_count": null,
      "outputs": []
    },
    {
      "cell_type": "code",
      "metadata": {
        "colab": {
          "base_uri": "https://localhost:8080/"
        },
        "id": "I4jK5q-ebQIa",
        "outputId": "1e8e2d2d-a146-49da-b984-d30b3f7d50b6"
      },
      "source": [
        "#gpt2.download_gpt2(model_name=\"345M\")\n",
        "gpt2.download_gpt2(model_name=\"124M\")\n",
        "\n",
        "gpt2.mount_gdrive()\n",
        "file_name = \"QAdataset_100.txt\"\n",
        "#gpt2.copy_file_from_gdrive(file_name)\n",
        "\n",
        "sess = gpt2.start_tf_sess()\n",
        "gpt2.finetune(sess,\n",
        "              dataset=file_name,\n",
        "              model_name='124M',\n",
        "              steps=2000,\n",
        "              restore_from='fresh',\n",
        "              run_name='QA100',\n",
        "              print_every=1,\n",
        "              sample_every=50,\n",
        "              save_every=50\n",
        "              )"
      ],
      "execution_count": null,
      "outputs": [
        {
          "output_type": "stream",
          "name": "stderr",
          "text": [
            "Fetching checkpoint: 1.05Mit [00:00, 247Mit/s]                                                      \n",
            "Fetching encoder.json: 1.05Mit [00:00, 1.61Mit/s]\n",
            "Fetching hparams.json: 1.05Mit [00:00, 127Mit/s]                                                    \n",
            "Fetching model.ckpt.data-00000-of-00001: 498Mit [00:46, 10.6Mit/s]\n",
            "Fetching model.ckpt.index: 1.05Mit [00:00, 519Mit/s]                                                \n",
            "Fetching model.ckpt.meta: 1.05Mit [00:00, 1.89Mit/s]\n",
            "Fetching vocab.bpe: 1.05Mit [00:00, 1.99Mit/s]\n"
          ]
        },
        {
          "output_type": "stream",
          "name": "stdout",
          "text": [
            "Drive already mounted at /content/drive; to attempt to forcibly remount, call drive.mount(\"/content/drive\", force_remount=True).\n",
            "Loading checkpoint models/124M/model.ckpt\n",
            "INFO:tensorflow:Restoring parameters from models/124M/model.ckpt\n",
            "Loading dataset...\n"
          ]
        },
        {
          "output_type": "stream",
          "name": "stderr",
          "text": [
            "100%|██████████| 1/1 [00:00<00:00,  2.37it/s]\n"
          ]
        },
        {
          "output_type": "stream",
          "name": "stdout",
          "text": [
            "dataset has 30964 tokens\n",
            "Training...\n",
            "[1 | 10.53] loss=3.05 avg=3.05\n",
            "[2 | 14.62] loss=2.84 avg=2.94\n",
            "[3 | 18.72] loss=2.94 avg=2.94\n",
            "[4 | 22.81] loss=2.67 avg=2.87\n",
            "[5 | 26.91] loss=2.64 avg=2.83\n",
            "[6 | 31.02] loss=2.69 avg=2.80\n",
            "[7 | 35.13] loss=2.55 avg=2.77\n",
            "[8 | 39.24] loss=2.35 avg=2.71\n",
            "[9 | 43.36] loss=2.56 avg=2.69\n",
            "[10 | 47.48] loss=2.57 avg=2.68\n",
            "[11 | 51.60] loss=2.37 avg=2.65\n",
            "[12 | 55.75] loss=2.49 avg=2.64\n",
            "[13 | 59.88] loss=2.58 avg=2.63\n",
            "[14 | 64.03] loss=2.23 avg=2.60\n",
            "[15 | 68.17] loss=2.50 avg=2.59\n",
            "[16 | 72.32] loss=2.08 avg=2.56\n",
            "[17 | 76.48] loss=2.26 avg=2.54\n",
            "[18 | 80.65] loss=2.30 avg=2.53\n",
            "[19 | 84.82] loss=2.18 avg=2.51\n",
            "[20 | 88.98] loss=2.21 avg=2.49\n",
            "Saving checkpoint/QA100/model-20\n"
          ]
        }
      ]
    },
    {
      "cell_type": "code",
      "metadata": {
        "colab": {
          "base_uri": "https://localhost:8080/",
          "height": 548
        },
        "id": "-Z48pdcQb52D",
        "outputId": "2f6678ea-b42c-49f0-a292-2bd90addb6d7"
      },
      "source": [
        "ctx1 = input(\"Context1: \")\n",
        "ctx2 = input(\"Context2: \")\n",
        "ans = input(\"Answer: \")\n",
        "qst = \"[QUESTION]:\"\n",
        "pre = '<|startoftext|>\\n[CONTEXT1]: ' + ctx1 + '\\n[CONTEXT2]: ' + ctx2 + \"\\n[ANSWER]:\" + ans + \"\\n\" + qst"
      ],
      "execution_count": null,
      "outputs": [
        {
          "output_type": "error",
          "ename": "KeyboardInterrupt",
          "evalue": "ignored",
          "traceback": [
            "\u001b[0;31m---------------------------------------------------------------------------\u001b[0m",
            "\u001b[0;31mKeyboardInterrupt\u001b[0m                         Traceback (most recent call last)",
            "\u001b[0;32m/usr/local/lib/python3.7/dist-packages/ipykernel/kernelbase.py\u001b[0m in \u001b[0;36m_input_request\u001b[0;34m(self, prompt, ident, parent, password)\u001b[0m\n\u001b[1;32m    728\u001b[0m             \u001b[0;32mtry\u001b[0m\u001b[0;34m:\u001b[0m\u001b[0;34m\u001b[0m\u001b[0;34m\u001b[0m\u001b[0m\n\u001b[0;32m--> 729\u001b[0;31m                 \u001b[0mident\u001b[0m\u001b[0;34m,\u001b[0m \u001b[0mreply\u001b[0m \u001b[0;34m=\u001b[0m \u001b[0mself\u001b[0m\u001b[0;34m.\u001b[0m\u001b[0msession\u001b[0m\u001b[0;34m.\u001b[0m\u001b[0mrecv\u001b[0m\u001b[0;34m(\u001b[0m\u001b[0mself\u001b[0m\u001b[0;34m.\u001b[0m\u001b[0mstdin_socket\u001b[0m\u001b[0;34m,\u001b[0m \u001b[0;36m0\u001b[0m\u001b[0;34m)\u001b[0m\u001b[0;34m\u001b[0m\u001b[0;34m\u001b[0m\u001b[0m\n\u001b[0m\u001b[1;32m    730\u001b[0m             \u001b[0;32mexcept\u001b[0m \u001b[0mException\u001b[0m\u001b[0;34m:\u001b[0m\u001b[0;34m\u001b[0m\u001b[0;34m\u001b[0m\u001b[0m\n",
            "\u001b[0;32m/usr/local/lib/python3.7/dist-packages/jupyter_client/session.py\u001b[0m in \u001b[0;36mrecv\u001b[0;34m(self, socket, mode, content, copy)\u001b[0m\n\u001b[1;32m    802\u001b[0m         \u001b[0;32mtry\u001b[0m\u001b[0;34m:\u001b[0m\u001b[0;34m\u001b[0m\u001b[0;34m\u001b[0m\u001b[0m\n\u001b[0;32m--> 803\u001b[0;31m             \u001b[0mmsg_list\u001b[0m \u001b[0;34m=\u001b[0m \u001b[0msocket\u001b[0m\u001b[0;34m.\u001b[0m\u001b[0mrecv_multipart\u001b[0m\u001b[0;34m(\u001b[0m\u001b[0mmode\u001b[0m\u001b[0;34m,\u001b[0m \u001b[0mcopy\u001b[0m\u001b[0;34m=\u001b[0m\u001b[0mcopy\u001b[0m\u001b[0;34m)\u001b[0m\u001b[0;34m\u001b[0m\u001b[0;34m\u001b[0m\u001b[0m\n\u001b[0m\u001b[1;32m    804\u001b[0m         \u001b[0;32mexcept\u001b[0m \u001b[0mzmq\u001b[0m\u001b[0;34m.\u001b[0m\u001b[0mZMQError\u001b[0m \u001b[0;32mas\u001b[0m \u001b[0me\u001b[0m\u001b[0;34m:\u001b[0m\u001b[0;34m\u001b[0m\u001b[0;34m\u001b[0m\u001b[0m\n",
            "\u001b[0;32m/usr/local/lib/python3.7/dist-packages/zmq/sugar/socket.py\u001b[0m in \u001b[0;36mrecv_multipart\u001b[0;34m(self, flags, copy, track)\u001b[0m\n\u001b[1;32m    624\u001b[0m         \"\"\"\n\u001b[0;32m--> 625\u001b[0;31m         \u001b[0mparts\u001b[0m \u001b[0;34m=\u001b[0m \u001b[0;34m[\u001b[0m\u001b[0mself\u001b[0m\u001b[0;34m.\u001b[0m\u001b[0mrecv\u001b[0m\u001b[0;34m(\u001b[0m\u001b[0mflags\u001b[0m\u001b[0;34m,\u001b[0m \u001b[0mcopy\u001b[0m\u001b[0;34m=\u001b[0m\u001b[0mcopy\u001b[0m\u001b[0;34m,\u001b[0m \u001b[0mtrack\u001b[0m\u001b[0;34m=\u001b[0m\u001b[0mtrack\u001b[0m\u001b[0;34m)\u001b[0m\u001b[0;34m]\u001b[0m\u001b[0;34m\u001b[0m\u001b[0;34m\u001b[0m\u001b[0m\n\u001b[0m\u001b[1;32m    626\u001b[0m         \u001b[0;31m# have first part already, only loop while more to receive\u001b[0m\u001b[0;34m\u001b[0m\u001b[0;34m\u001b[0m\u001b[0;34m\u001b[0m\u001b[0m\n",
            "\u001b[0;32mzmq/backend/cython/socket.pyx\u001b[0m in \u001b[0;36mzmq.backend.cython.socket.Socket.recv\u001b[0;34m()\u001b[0m\n",
            "\u001b[0;32mzmq/backend/cython/socket.pyx\u001b[0m in \u001b[0;36mzmq.backend.cython.socket.Socket.recv\u001b[0;34m()\u001b[0m\n",
            "\u001b[0;32mzmq/backend/cython/socket.pyx\u001b[0m in \u001b[0;36mzmq.backend.cython.socket._recv_copy\u001b[0;34m()\u001b[0m\n",
            "\u001b[0;32m/usr/local/lib/python3.7/dist-packages/zmq/backend/cython/checkrc.pxd\u001b[0m in \u001b[0;36mzmq.backend.cython.checkrc._check_rc\u001b[0;34m()\u001b[0m\n",
            "\u001b[0;31mKeyboardInterrupt\u001b[0m: ",
            "\nDuring handling of the above exception, another exception occurred:\n",
            "\u001b[0;31mKeyboardInterrupt\u001b[0m                         Traceback (most recent call last)",
            "\u001b[0;32m<ipython-input-7-f17ed1a7ffd3>\u001b[0m in \u001b[0;36m<module>\u001b[0;34m()\u001b[0m\n\u001b[0;32m----> 1\u001b[0;31m \u001b[0mctx1\u001b[0m \u001b[0;34m=\u001b[0m \u001b[0minput\u001b[0m\u001b[0;34m(\u001b[0m\u001b[0;34m\"Context1: \"\u001b[0m\u001b[0;34m)\u001b[0m\u001b[0;34m\u001b[0m\u001b[0;34m\u001b[0m\u001b[0m\n\u001b[0m\u001b[1;32m      2\u001b[0m \u001b[0mctx2\u001b[0m \u001b[0;34m=\u001b[0m \u001b[0minput\u001b[0m\u001b[0;34m(\u001b[0m\u001b[0;34m\"Context2: \"\u001b[0m\u001b[0;34m)\u001b[0m\u001b[0;34m\u001b[0m\u001b[0;34m\u001b[0m\u001b[0m\n\u001b[1;32m      3\u001b[0m \u001b[0mans\u001b[0m \u001b[0;34m=\u001b[0m \u001b[0minput\u001b[0m\u001b[0;34m(\u001b[0m\u001b[0;34m\"Answer: \"\u001b[0m\u001b[0;34m)\u001b[0m\u001b[0;34m\u001b[0m\u001b[0;34m\u001b[0m\u001b[0m\n\u001b[1;32m      4\u001b[0m \u001b[0mqst\u001b[0m \u001b[0;34m=\u001b[0m \u001b[0;34m\"[QUESTION]:\"\u001b[0m\u001b[0;34m\u001b[0m\u001b[0;34m\u001b[0m\u001b[0m\n\u001b[1;32m      5\u001b[0m \u001b[0mpre\u001b[0m \u001b[0;34m=\u001b[0m \u001b[0;34m'<|startoftext|>\\n[CONTEXT1]: '\u001b[0m \u001b[0;34m+\u001b[0m \u001b[0mctx1\u001b[0m \u001b[0;34m+\u001b[0m \u001b[0;34m'\\n[CONTEXT2]: '\u001b[0m \u001b[0;34m+\u001b[0m \u001b[0mctx2\u001b[0m \u001b[0;34m+\u001b[0m \u001b[0;34m\"\\n[ANSWER]:\"\u001b[0m \u001b[0;34m+\u001b[0m \u001b[0mans\u001b[0m \u001b[0;34m+\u001b[0m \u001b[0;34m\"\\n\"\u001b[0m \u001b[0;34m+\u001b[0m \u001b[0mqst\u001b[0m\u001b[0;34m\u001b[0m\u001b[0;34m\u001b[0m\u001b[0m\n",
            "\u001b[0;32m/usr/local/lib/python3.7/dist-packages/ipykernel/kernelbase.py\u001b[0m in \u001b[0;36mraw_input\u001b[0;34m(self, prompt)\u001b[0m\n\u001b[1;32m    702\u001b[0m             \u001b[0mself\u001b[0m\u001b[0;34m.\u001b[0m\u001b[0m_parent_ident\u001b[0m\u001b[0;34m,\u001b[0m\u001b[0;34m\u001b[0m\u001b[0;34m\u001b[0m\u001b[0m\n\u001b[1;32m    703\u001b[0m             \u001b[0mself\u001b[0m\u001b[0;34m.\u001b[0m\u001b[0m_parent_header\u001b[0m\u001b[0;34m,\u001b[0m\u001b[0;34m\u001b[0m\u001b[0;34m\u001b[0m\u001b[0m\n\u001b[0;32m--> 704\u001b[0;31m             \u001b[0mpassword\u001b[0m\u001b[0;34m=\u001b[0m\u001b[0;32mFalse\u001b[0m\u001b[0;34m,\u001b[0m\u001b[0;34m\u001b[0m\u001b[0;34m\u001b[0m\u001b[0m\n\u001b[0m\u001b[1;32m    705\u001b[0m         )\n\u001b[1;32m    706\u001b[0m \u001b[0;34m\u001b[0m\u001b[0m\n",
            "\u001b[0;32m/usr/local/lib/python3.7/dist-packages/ipykernel/kernelbase.py\u001b[0m in \u001b[0;36m_input_request\u001b[0;34m(self, prompt, ident, parent, password)\u001b[0m\n\u001b[1;32m    732\u001b[0m             \u001b[0;32mexcept\u001b[0m \u001b[0mKeyboardInterrupt\u001b[0m\u001b[0;34m:\u001b[0m\u001b[0;34m\u001b[0m\u001b[0;34m\u001b[0m\u001b[0m\n\u001b[1;32m    733\u001b[0m                 \u001b[0;31m# re-raise KeyboardInterrupt, to truncate traceback\u001b[0m\u001b[0;34m\u001b[0m\u001b[0;34m\u001b[0m\u001b[0;34m\u001b[0m\u001b[0m\n\u001b[0;32m--> 734\u001b[0;31m                 \u001b[0;32mraise\u001b[0m \u001b[0mKeyboardInterrupt\u001b[0m\u001b[0;34m\u001b[0m\u001b[0;34m\u001b[0m\u001b[0m\n\u001b[0m\u001b[1;32m    735\u001b[0m             \u001b[0;32melse\u001b[0m\u001b[0;34m:\u001b[0m\u001b[0;34m\u001b[0m\u001b[0;34m\u001b[0m\u001b[0m\n\u001b[1;32m    736\u001b[0m                 \u001b[0;32mbreak\u001b[0m\u001b[0;34m\u001b[0m\u001b[0;34m\u001b[0m\u001b[0m\n",
            "\u001b[0;31mKeyboardInterrupt\u001b[0m: "
          ]
        }
      ]
    },
    {
      "cell_type": "code",
      "metadata": {
        "colab": {
          "base_uri": "https://localhost:8080/",
          "height": 240
        },
        "id": "Gi-26C_eb9as",
        "outputId": "5f0788c9-93e4-4b32-b353-d8b8a5476683"
      },
      "source": [
        "gpt2.generate(sess,\n",
        "    length=20,\n",
        "    temperature=1,\n",
        "    prefix=pre,\n",
        "    nsamples=10,\n",
        "    batch_size=10,\n",
        "    run_name=\"QA100\",\n",
        ")"
      ],
      "execution_count": null,
      "outputs": [
        {
          "output_type": "error",
          "ename": "NameError",
          "evalue": "ignored",
          "traceback": [
            "\u001b[0;31m---------------------------------------------------------------------------\u001b[0m",
            "\u001b[0;31mNameError\u001b[0m                                 Traceback (most recent call last)",
            "\u001b[0;32m<ipython-input-8-b28bb555a474>\u001b[0m in \u001b[0;36m<module>\u001b[0;34m()\u001b[0m\n\u001b[1;32m      2\u001b[0m     \u001b[0mlength\u001b[0m\u001b[0;34m=\u001b[0m\u001b[0;36m20\u001b[0m\u001b[0;34m,\u001b[0m\u001b[0;34m\u001b[0m\u001b[0;34m\u001b[0m\u001b[0m\n\u001b[1;32m      3\u001b[0m     \u001b[0mtemperature\u001b[0m\u001b[0;34m=\u001b[0m\u001b[0;36m1\u001b[0m\u001b[0;34m,\u001b[0m\u001b[0;34m\u001b[0m\u001b[0;34m\u001b[0m\u001b[0m\n\u001b[0;32m----> 4\u001b[0;31m     \u001b[0mprefix\u001b[0m\u001b[0;34m=\u001b[0m\u001b[0mpre\u001b[0m\u001b[0;34m,\u001b[0m\u001b[0;34m\u001b[0m\u001b[0;34m\u001b[0m\u001b[0m\n\u001b[0m\u001b[1;32m      5\u001b[0m     \u001b[0mnsamples\u001b[0m\u001b[0;34m=\u001b[0m\u001b[0;36m10\u001b[0m\u001b[0;34m,\u001b[0m\u001b[0;34m\u001b[0m\u001b[0;34m\u001b[0m\u001b[0m\n\u001b[1;32m      6\u001b[0m     \u001b[0mbatch_size\u001b[0m\u001b[0;34m=\u001b[0m\u001b[0;36m10\u001b[0m\u001b[0;34m,\u001b[0m\u001b[0;34m\u001b[0m\u001b[0;34m\u001b[0m\u001b[0m\n",
            "\u001b[0;31mNameError\u001b[0m: name 'pre' is not defined"
          ]
        }
      ]
    },
    {
      "cell_type": "code",
      "metadata": {
        "id": "nmv0vxEOgjHg",
        "colab": {
          "base_uri": "https://localhost:8080/"
        },
        "outputId": "b395e6a6-93f2-438d-d075-087af496738b"
      },
      "source": [
        "import pandas as pd\n",
        "\n",
        "colnames = ['_id', 'answer', 'question', 'supporting_facts', 'context', 'type', 'level']\n",
        "url = \"http://curtis.ml.cmu.edu/datasets/hotpot/hotpot_dev_distractor_v1.json\"\n",
        "data = pd.read_json(url)\n",
        "\n",
        "output = \"\"\n",
        "\n",
        "# colnames = ['_id', 'answer', 'question', 'supporting_facts', 'context', 'type', 'level']\n",
        "# url = \"http://curtis.ml.cmu.edu/datasets/hotpot/hotpot_train_v1.1.json\"\n",
        "# data = pd.read_json(url)\n",
        "\n",
        "questions=data.question.tolist()\n",
        "answers=data.answer.tolist()\n",
        "contexts = data.context.tolist()\n",
        "\n",
        "#c1, q, a, e, c2 = \"<|start|>\\n[CONTEXT1]: \",  \"\\n[QUESTION]:\", \"\\n[ANSWER]:\", \"\\n<|endoftext|>\\n\", \"\\n[CONTEXT2]:\"\n",
        "\n",
        "index = 64\n",
        "while (index < 100):\n",
        "  ctx11 = contexts[index][0][1]\n",
        "  ctx1 = ''.join(map(str, ctx11))\n",
        "  ctx22 = contexts[index][1][1]\n",
        "  ctx2 = ''.join(map(str, ctx22))\n",
        "  ans = answers[index]\n",
        "  gque = \"[GENERATED QUESTION]:\"\n",
        "  #pre = gque\n",
        "  #\"\\n[ORIGINAL QUESTION]:\"+str(questions[index]) +\n",
        "  pre = '<|sample'+str(index)+'|>\\n[CONTEXT1]: ' + ctx1 + '\\n[CONTEXT2]: ' + ctx2 + \"\\n[ANSWER]:\" + ans + \"\\n\" + gque\n",
        "  output+=str(gpt2.generate(sess,length=10,temperature=1,prefix=pre,nsamples=1,run_name=\"QA100\",))+\"\\n\"\n",
        "  index = index+1\n",
        "  \n",
        "f = open(\"output.txt\",\"w+\")\n",
        "f.write(output)\n",
        "f.close()"
      ],
      "execution_count": null,
      "outputs": [
        {
          "output_type": "stream",
          "name": "stdout",
          "text": [
            "<|sample64|>\n",
            "[CONTEXT1]: Yvonne Ridley (born 23 April 1958) is a British journalist who was a chair of the National Council of the now defunct Respect Party. She was captured by the Taliban in 2001, and two years later converted to Islam after giving her captors an understanding that she would study Islam if they agreed to release her. She is a vocal supporter of Palestine, a cause she took up as a schoolgirl and is also a critic of the political ideology of Zionism and vocal critic of Western media portrayals and foreign policy in the War on Terror, and has undertaken speaking tours throughout the Muslim world as well as America, Europe and Australia. She has been called \"something close to a celebrity in the Islamic world\" by the journalist Rachel Cooke, and in 2008 was voted the \"most recognisable woman in the Islamic world\" by Islam Online.\n",
            "[CONTEXT2]: Mobil Producing Nigeria (MPN) \"is one of three\" Nigerian subsidiaries of the petroleum company ExxonMobil. It began operations in 1955. All of its operations are offshore, where it owns 90 platforms on 3200 km2 of territory. MPN is the second largest producer of crude oil in Nigeria after Shell. Erha field/vessel is the recent offshore deployment of ExxonMobil FPSO in Nigeria partnering with Nigerian National Petroleum Corporation.\n",
            "[ANSWER]:more than 70 countries\n",
            "[GENERATED QUESTION]:Meeting of the month weight: Do the United\n",
            "<|sample65|>\n",
            "[CONTEXT1]: Safe Harbor is an American television drama series that aired on The WB Television Network from September 20, 1999 to November 28, 1999. The series was created and executive produced by Brenda Hampton, who at the time was best known for work on the fellow WB series \"7th Heaven\", the series was paired with \"7th Heaven\" on the network's Monday night lineup. Despite \"7th Heaven\" being the No. 1 show on The WB during the 1999-2000 season, \"Safe Harbor\" was unable to hold a solid audience after \"7th Heaven\" and was canceled after ten episodes and one season with the show moving to Sunday nights where the last two episodes aired.\n",
            "[CONTEXT2]: The Power of Three, on The WB series \"Charmed\", refers to any bond formed by three magical beings good or evil. It is most commonly used to describe the bond between the Warren/Halliwell line, more specifically the Charmed Ones, which is said to be the most powerful magical force in history. The \"Power of Three\" originally included the Halliwell sisters Prue (Shannen Doherty), Piper (Holly Marie Combs) and Phoebe (Alyssa Milano). However, following Prue's death in the third season finale, their long-lost younger half sister Paige Matthews (Rose McGowan) takes her place within the \"Power of Three\" from season four onwards.\n",
            "[ANSWER]:Charmed\n",
            "[GENERATED QUESTION]:What episodes with Savile, Scott and other lesser\n",
            "<|sample66|>\n",
            "[CONTEXT1]: Ralph Charles (born 5 February 1943) is an English amateur welterweight and professional light welter/welter/light middle/middleweight boxer of the 1960s and '70s who as an amateur won the Amateur Boxing Association of England (ABAE) 1959 Junior Class-A title against Kenneth \"Ken\"/\"Kenny\" J. Cooper  (Warley ABC), boxing out of West Ham Boys & ABC, won the Amateur Boxing Association of England (ABAE) 1960 Junior Class-B title against J. Harwood (National Association of Boys Clubs), boxing out of West Ham Boys & ABC, and was runner-up for the 1963 Amateur Boxing Association of England welterweight title, against Johnny Pritchett (Bingham & District ABC), boxing out of West Ham ABC, and as a professional won the British Boxing Board of Control (BBBofC) Southern Area welterweight title, BBBofC British welterweight title, European Boxing Union (EBU) welterweight title, and Commonwealth welterweight title, and was a challenger for the World Boxing Council (WBC) welterweight title, and World Boxing Association (WBA) World welterweight title against José Nápoles, his professional fighting weight varied from 140 lb , i.e. light welterweight to 157 lb , i.e. middleweight.\n",
            "[CONTEXT2]: George Leslie \"Bunny\" Grant (born 29 September 1940) is a Jamaican professional feather/super feather/light/light welter/welterweight/light middleweight boxer of the 1950s, '60s and '70s who won the Jamaican lightweight title, Jamaican welterweight title, Central American light welterweight Title, Latin American junior welterweight title, and British Commonwealth lightweight title, and was a challenger for the World Boxing Council (WBC) light welterweight title and World Boxing Association (WBA) World light welterweight title against Eddie Perkins, Commonwealth welterweight title against Clyde Gray, his professional fighting weight varied from 125+1/2 lb , i.e. featherweight to 152+1/2 lb , i.e. light middleweight. Bunny Grant was managed by Jacques Deschamps, and Pancho Rankine (circa 1962), and trained by Harry Wiley (circa 1962).\n",
            "[ANSWER]:International Boxing Hall of Fame\n",
            "[GENERATED QUESTION]:Who is the announcer for the \"Big Show\"\n",
            "<|sample67|>\n",
            "[CONTEXT1]: \"Can't Touch It\" is a song by Australian singer and songwriter Ricki-Lee Coulter. It was written by Coulter with Brian Kierulf and Joshua M. Schwartz of KNS Productions, who also produced the song. \"Can't Touch It\" was released as the lead single from Coulter's second studio album \"Brand New Day\" on 4 August 2007. Upon its release, \"Can't Touch It\" peaked at number two on the ARIA Singles Chart and number one on the ARIA Dance Singles Chart, where it remained for eight consecutive weeks. It was certified platinum by the Australian Recording Industry Association for shipments of 70,000 copies.\n",
            "[CONTEXT2]: \"Stay\" is a song by UK based pop act Shakespears Sister, released by London Records in January 1992 as the second single from their album \"Hormonally Yours\". Upon release, the single became a global smash hit becoming the duo's first and only No. 1 single in numerous territories, including the UK, where it topped the UK Singles Chart for eight consecutive weeks; the longest UK No. 1 reign for any all-female band, and was the fourth biggest selling single of 1992. The single also held the No. 1 position in band member Siobhan Fahey's birthplace, Ireland, for six weeks, and it was a transatlantic hit reaching No. 4 on the \"Billboard\" Hot 100 in the US.\n",
            "[ANSWER]:Usher\n",
            "[GENERATED QUESTION]:What would a recurring lead single from the 2007 Australian\n",
            "<|sample68|>\n",
            "[CONTEXT1]: The Hard Easy is a 2006 American action crime drama film directed by Ari Ryan, and written by Jon Lindstrom and Tom Schanley. The film stars Henry Thomas, Vera Farmiga, David Boreanaz, Bruce Dern, Peter Weller, Gary Busey, and Nick Lachey. The film was released straight-to-DVD in the United States on May 22, 2007.\n",
            "[CONTEXT2]: \"Moving On\" is the sixteenth episode of the ninth season of the American comedy television series \"The Office\" and the 192nd episode overall. The episode was written by Graham Wagner. It was directed by Jon Favreau. It originally aired on NBC on February 14, 2013. The episode guest stars Bob Odenkirk, Mary Gillis, Collette Wolfe, and Andy Buckley. The episode also features the return of former series regular Zach Woods as Gabe Lewis.\n",
            "[ANSWER]:Bill Murray\n",
            "[GENERATED QUESTION]:What was written by Bill Murray as in \"A\n",
            "<|sample69|>\n",
            "[CONTEXT1]: The 2017–18 season is Wigan Athletic's 86th year in existence and their first back in League One, after being relegated the previous season. Along with competing in the league, the club will also participate in the FA Cup, EFL Cup and EFL Trophy. Paul Cook was appointed as manager on 31 May 2017, signing a 3 year deal, following the departure of much of the previous coaching staff the day before.\n",
            "[CONTEXT2]: The 2007–08 Wigan Athletic F.C. season was the club's 30th season in the Football League and their third season in the Premier League.\n",
            "[ANSWER]:Carabao Cup\n",
            "[GENERATED QUESTION]:Literally ?\n",
            "<|endoftext|\n",
            "<|sample70|>\n",
            "[CONTEXT1]: \"Teen Titans Go!\" is an American animated television series based on the DC Comics fictional superhero team, the \"Teen Titans\". The series was announced following the popularity of DC Nation's New Teen Titans shorts, both of which are based on the 2003 \"Teen Titans\" TV series. \"Teen Titans Go!\" is a more comedic take on the DC Comics franchise, dealing with situations that happen every day. Sporting a new animation style, \"Teen Titans Go!\" serves as a comedic spin-off with no continuity to the previous series, and only certain elements are retained. Many DC characters make cameo appearances and are referenced in the background. The original principal voice cast returns to reprise their respective roles.\n",
            "[CONTEXT2]: The fourth season of the animated television series \"Teen Titans\", based on the DC comics series of the same time by Bob Haney and Bruno Premiani, originally aired on Cartoon Network in the United States. Developed by television writer David Slack, the series was produced by DC Entertainment and Warner Bros. Animation. It stars Scott Menville, Hynden Walch, Khary Payton, Tara Strong, and Greg Cipes as the main characters.\n",
            "[ANSWER]:Teen Titans Go!\n",
            "[GENERATED QUESTION]:What sort of action-packed superhero series was designed\n",
            "<|sample71|>\n",
            "[CONTEXT1]: The 122nd SS-Standarte was a regimental command of the Allgemeine-SS that was formed in the city of Strasbourg during World War II. The Standarte was activated on November 12, 1940, and reached battalion strength by the end of the year. The command was a successor to the previously disbanded 121st SS-Standarte, also situated in Strasbourg.\n",
            "[CONTEXT2]: The 122nd Hydroplane Liaison Squadron (\"Serbo-Croatian: 122. hidroavijacijska eskadrila za vezu / 122. хидроавијацијска ескадрила за везу\") was an aviation squadron of Yugoslav Air Force formed on July 24, 1949, as 122nd Hydroplane Section (\"Serbo-Croatian: 122. hidroavijacijsko odeljenje/ 122. хидроавијацијско одељење\") as part of Yugoslav Navy.\n",
            "[ANSWER]:276,170 inhabitants\n",
            "[GENERATED QUESTION]:Which regiment on the SS-Standarte is a\n",
            "<|sample72|>\n",
            "[CONTEXT1]: Queen's Day or \"Koninginnedag\" is the former name of a national holiday in the Netherlands, the Netherlands Antilles and Aruba from 1890 to 2013. It has since been renamed King's Day or \"Koningsdag\" to honor the birthday of King Willem-Alexander.\n",
            "[CONTEXT2]: Children's Day (こどもの日 , Kodomo no Hi ) is a Japanese national holiday which takes place annually on May 5, the fifth day of the fifth month, and is the final celebration in Golden Week. It is a day set aside to respect children's personalities and to celebrate their happiness. It was designated a national holiday by the Japanese government in 1948. It has been a day of celebration in Japan since ancient times.\n",
            "[ANSWER]:orange\n",
            "[GENERATED QUESTION]:What is the name of the first Suruga genus\n",
            "<|sample73|>\n",
            "[CONTEXT1]: William Shakespeare's Romeo and Juliet may be one of the most-screened plays of all time. The most notable theatrical releases were George Cukor's multi-Oscar-nominated 1936 production \"Romeo and Juliet\", Franco Zeffirelli's 1968 film \"Romeo and Juliet\", and Baz Luhrmann's 1996 MTV-inspired \"Romeo + Juliet\". The latter two were both, at the time, the highest-grossing Shakespeare films. Cukor featured the mature actors Norma Shearer and Leslie Howard as the teenage lovers while Zeffirelli populated his film with beautiful young people, and Baz Luhrmann produced a heavily cut fast-paced version aimed at teenage audiences.\n",
            "[CONTEXT2]: Romeo Montague (Italian: \"Romeo Montecchi\" ) is the protagonist of William Shakespeare's tragedy \"Romeo and Juliet\". The son of Montague and his wife, he secretly loves and marries Juliet, a member of the rival House of Capulet. Forced into exile after slaying Juliet's cousin, Tybalt, in a duel, Romeo commits suicide upon hearing falsely of Juliet's death.\n",
            "[ANSWER]:Tromeo and Juliet\n",
            "[GENERATED QUESTION]:Orocco has long surrounded Juliet with great\n",
            "<|sample74|>\n",
            "[CONTEXT1]: The Director of the Defense Intelligence Agency is an intelligence officer who, upon nomination by the President and confirmation by the Senate, serves as the nation's highest-ranking military intelligence officer. As the chief of the Defense Intelligence Agency, the Director is the primary intelligence adviser to the Secretary of Defense and the Chairman of the Joint Chiefs of Staff and also answers to the Director of National Intelligence through the civilian Under Secretary of Defense for Intelligence. The Director is also the Commander of the Joint Functional Component Command for Intelligence, Surveillance and Reconnaissance, a subordinate command of United States Strategic Command. Additionally, he chairs the Military Intelligence Board, which coordinates activities of the entire defense intelligence community.\n",
            "[CONTEXT2]: The National Intelligence Superior Service Medal is an award of the National Intelligence Awards Program that recognizes an individual's superior service or a lasting contribution over a long period of time to the United States Intelligence Community and the United States as a whole. The medal ranks below the National Intelligence Distinguished Service Medal, but above the National Intelligence Exceptional Achievement Medal.\n",
            "[ANSWER]:William Jefferson Clinton\n",
            "[GENERATED QUESTION]:Courtney Witchengam's determination to keep child\n",
            "<|sample75|>\n",
            "[CONTEXT1]: Coco Malia Camille Hapaikekoa Ho (born April 28, 1991) is a professional Hawaiian surfer born in Honolulu, Hawaii. She began surfing at 7 years old, following in the footsteps of her family. Today, Coco has won over 25 surfing awards and has been voted a top three fan favorite in Surfer magazine’s Surfer Poll.\n",
            "[CONTEXT2]: The Moche Rip Curl Pro Portugal 2015 was an event of the Association of Surfing Professionals for 2015 ASP World Tour.\n",
            "[ANSWER]:John John Florence\n",
            "[GENERATED QUESTION]:Who is the best Hawaiian surfer of the '\n",
            "<|sample76|>\n",
            "[CONTEXT1]: Barend or (somewhat dated spelling) Barent is a Dutch male given name and occasional middle name. As of 2014, there are over than 4,000 men in the Netherlands with this as their first name, and nearly 3,000 with it as their middle name. It was likely derived from Bernard. Notable people with the name include:\n",
            "[CONTEXT2]: Marion Christopher Barry was born in June 1980 to Marion Barry and Barry's third wife, Effi Slaughter Barry. He was their only child. His father had wanted to name him Marion Barry III, but Effi was strongly opposed, and they decided to give him the middle name Christopher instead. For most of his adult life, Barry went by his middle name, Christopher.\n",
            "[ANSWER]:Ann\n",
            "[GENERATED QUESTION]:What term will I associate with a John Barry name\n",
            "<|sample77|>\n",
            "[CONTEXT1]: The High Commission of Australia in London is the diplomatic mission of Australia in the United Kingdom. It is located in Australia House, a Grade II listed building. It is both Australia's first diplomatic mission and the longest continuously occupied diplomatic mission in the United Kingdom.\n",
            "[CONTEXT2]: A diplomatic mission or foreign mission is a group of people from one state or an organisation present in another state to represent the sending state/organisation officially in the receiving state. In practice, a diplomatic mission usually denotes the resident mission, namely the embassy, which is the office of a country's diplomatic representatives in the capital city of another country, whereas consulates are diplomatic missions which are not performed in the capital of the receiving state. As well as being a diplomatic mission to the country in which it is situated, it may also be a non-resident permanent mission to one or more other countries. There are thus resident and non-resident embassies.\n",
            "[ANSWER]:Apalachees\n",
            "[GENERATED QUESTION]:What posse of pirates are under permanent command for\n",
            "<|sample78|>\n",
            "[CONTEXT1]: Sir Edmund Ronald Leach (7 November 1910 – 6 January 1989) was a British social anthropologist.\n",
            "[CONTEXT2]: Thomas Hylland Eriksen (born February 6, 1962) is a Norwegian anthropologist. He is currently a professor of social anthropology at the University of Oslo, as well as the 2015-2016 president of the European Association of Social Anthropologists. He is a member of the Norwegian Academy of Science and Letters.\n",
            "[ANSWER]:British\n",
            "[GENERATED QUESTION]:He used to be a university professor\n",
            "[ANS\n",
            "<|sample79|>\n",
            "[CONTEXT1]: The 2017 Queen's Birthday Honours are appointments by some of the 16 Commonwealth realms of Queen Elizabeth II to various orders and honours to reward and highlight good works by citizens of those countries. The Birthday Honours are awarded as part of the Queen's Official Birthday celebrations during the month of June. The Queen's Birthday Honours for the United Kingdom were announced on 16 June; the honours for New Zealand were announced on 5 June and for Australia on 12 June.\n",
            "[CONTEXT2]: The 2014 Birthday Honours were appointments by some of the 16 Commonwealth realms of Queen Elizabeth II to various orders and honours to reward and highlight good works by citizens of those countries. The Birthday Honours are awarded as part of the Queen's Official Birthday celebrations during the month of June. The Queen's Birthday Honours were announced on 14 June 2014 in the United Kingdom, on 9 June 2014 in Australia, on 2 June 2014 in New Zealand, on 14 June 2014 in Grenada, Papua New Guinea, Solomon Islands, Tuvalu, Saint Lucia and Belize.\n",
            "[ANSWER]:1865\n",
            "[GENERATED QUESTION]:What is a honours medal?\n",
            "[ANS\n",
            "<|sample80|>\n",
            "[CONTEXT1]: Steven \"Steve\" Smith (born June 23, 1964) is a New Hampshire politician and a member of the New Hampshire House of Representatives representing Sullivan County District 11, which includes the towns of Acworth, Charlestown, Goshen, Langdon, Lempster, and Washington. He is a software tester by profession, and also runs a slot car business and racing facility.\n",
            "[CONTEXT2]: Miner Memorial Library is the public library of Lempster, New Hampshire, located at 3 Second New Hampshire Turnpike. The library occupies a single-story wood frame structure built in 1845 as a church for a Universalist congregation. Despite significant alteration for its use as a library, the building remains a fine example of vernacular church architecture in Sullivan County. The building was formally dedicated in 1927 to the memory of Lempster native Alonzo Ames Miner, a leading Universalist minister and president of Tufts College. After years of declining attendance, the remaining congregants gave the building to the town in 1965. The building was listed on the National Register of Historic Places in 2006.\n",
            "[ANSWER]:Newport\n",
            "[GENERATED QUESTION]:What township has the largest library in the Greater Toronto\n",
            "<|sample81|>\n",
            "[CONTEXT1]: Ride Out is the seventeenth studio album by American rock singer–songwriter Bob Seger. The album was released on October 14, 2014. Although Seger had previously stated that this may be his final album, a followup album entitled \"I Knew You When\" will be released on November 17, 2017.\n",
            "[CONTEXT2]: 10 H.M. (Short for 10 Hronia Mazi, Greek: \"10 Χρόνια Μαζί\"; English: \"10 Years Together\") is an album released by Greek singer Despina Vandi starting on December 6, 2007. It is her 12th album from the beginning of her career, and her 10th album with Phoebus. It is also her first studio album of new material since her 2004 release of \"Stin Avli Tou Paradisou\". The album is dedicated to the 10-year collaboration with Phoebus and features a track of the same name. The album is a triple CD, with the first CD containing pop/rock songs, the second CD containing Modern Laika songs and third CD containing new remixes of older songs. The album is completely written and produced by Phoebus and released by Heaven Music. The main sponsor is WIND Hellas.\n",
            "[ANSWER]:Bob Seger\n",
            "[GENERATED QUESTION]:When is a solo album released by a Canadian artist\n",
            "<|sample82|>\n",
            "[CONTEXT1]: The 2010 Kiev Victory Day Parade was held on May 9, 2010 in Kiev, honoring the 65th anniversary of the Soviet Union's victory in the Great Patriotic War. Inspecting the parade was the Chief of General Staff of the Armed Forces General of the Army Ivan Svyda. The commander of the Ukrainian Armed Forces, Colonel General Gennady Vorobyov, Commanded the Parade. The President of Ukraine Viktor Yanukovych delivered a jubilee address. 2,500 members of the Ukrainian Armed Forces troops from Russia and Belarus took part in the parade. 17 military orchestras took part in the parade under the command of the Chief of the Military Music Department of the General Staff of the Ukrainian Armed Forces, Major General Volodymyr Derkach.\n",
            "[CONTEXT2]: Rostker v. Goldberg, 453 U.S. 57 (1981) , was a decision of the United States Supreme Court holding that the practice of requiring only men to register for the draft was constitutional. After extensive hearings, floor debate and committee sessions on the matter, the United States Congress enacted the law, as it had previously been, to apply to men only. Several attorneys, including Robert L. Goldberg, subsequently challenged the gender distinction as unconstitutional. (The named defendant is Bernard D. Rostker, Director of the Selective Service System.) In a 6-3 decision, the Supreme Court held that this gender distinction was not a violation of the equal protection component of the due process clause, and that the Act would stand as passed.\n",
            "[ANSWER]:Conscription\n",
            "[GENERATED QUESTION]:What group drafted the young Andrei Alexandrescu\n",
            "<|sample83|>\n",
            "[CONTEXT1]: Canyon Creek Food Company () is a food processing company based in Edmonton, Alberta that provides fresh soups and other prepared food products geared towards health conscious consumers. The company provides its fresh food product line to grocery retailers and a broad range of food service establishments such as restaurants and institutions throughout Canada.\n",
            "[CONTEXT2]: Robert's American Gourmet Food was and is a snack food company located in the United States. Founded by businessman Robert Ehrlich in 1986, the company was best known for its snack food, Pirate's Booty, which is found in over 90% of United States supermarkets. Robert's American Gourmet targeted health-conscious shoppers with a range of snack foods.\n",
            "[ANSWER]:Mondelez International, Inc.\n",
            "[GENERATED QUESTION]:What brand name company is founded by, whose number\n",
            "<|sample84|>\n",
            "[CONTEXT1]: Sheila Cavanagh is an associate professor of sociology and former chair of the Sexuality Studies Program at York University. Cavanagh is currently chair of the Canadian Sexuality Studies Association and co-editor (along with Malena Gustavson) of the \"Somatechnics\" journal. Her research is in the area of gender and sexuality with a concentration on queer, cultural, and psychoanalytic theories. Cavanagh is editing a special issue on transgender and psychoanalysis in \"Transgender Studies Quarterly\" and completing her third book monograph titled \"Transgender and the Other Sexual Difference: Bracha L. Ettinger and Jacques Lacan\". She co-edited a collection with Angela Failler and Rachel A. J. Hurst titled \"Skin, Culture and Psychoanalysis\" (2013) published by Palgrave Macmillan. Her first sole-authored book titled \"Sexing the Teacher: School Sex Scandals and Queer Pedagogies\" (2007) was given honorable mention by the Canadian Women’s Studies Association. Her second sole-authored book titled \"Queering Bathrooms: Gender, Sexuality, and the Hygienic Imagination\" (2010) is a GLBT Indie Book Award finalist and recipient of the CWSA/ACEF Outstanding Scholarship Prize Honourable Mention (2012). Her performed ethnography titled Queer Bathroom Monologues (QBM) premiered at the Toronto Fringe Festival (2011) and was given the Audience Pick Award. The play was professionally staged at Buddies in Bad Times Theatre, Toronto, in June 2014 for WorldPride and has toured at conferences, colleges and universities in Canada and the United States. She has published in a wide range of international journals and given keynotes addresses at conferences in Sweden, Turkey and Canada. Cavanagh teaches an undergraduate course titled Sociology of Gender and a range of graduate courses in sexuality studies, feminist theory and queer theory. She is also interviewed in Rohan Spong's documentaries \"T is for Teacher\" (2009) and \"Queer Science\" (2008).\n",
            "[CONTEXT2]: Gregory Bestor \"Greg\" Craig (born March 4, 1945) is an American lawyer and former White House Counsel under President Barack Obama from 2009 to 2010. A former attorney at the Washington, D.C. law firm of Williams & Connolly, Craig has represented numerous high-profile clients. Prior to becoming White House Counsel, Craig served as assistant to the President and special counsel in the White House of President Bill Clinton, where he directed the team defending Clinton against impeachment. Craig also served as a senior advisor to Senator Edward Kennedy and Secretary of State Madeleine Albright.\n",
            "[ANSWER]:Monica Lewinsky\n",
            "[GENERATED QUESTION]:Are unlawful impressions by Neoliberal men glass lettered\n",
            "<|sample85|>\n",
            "[CONTEXT1]: Paul John Manafort Jr. (born April 1, 1949) is an American lawyer, lobbyist and political consultant. He joined Donald Trump's presidential campaign team in March 2016 and served as campaign manager from June to August 2016. He was previously an adviser to the U.S. presidential campaigns of Republicans Gerald Ford, Ronald Reagan, George H. W. Bush, and Bob Dole. In 1980 Manafort co-founded the Washington, D.C.-based lobbying firm Black, Manafort & Stone, along with principals Charles R. Black Jr., and Roger J. Stone. In 1984 it was renamed Black, Manafort, Stone and Kelly (BMSK) & associates, after Peter G. Kelly was recruited.\n",
            "[CONTEXT2]: \"Donald Trump\" is a segment of the HBO news satire television series \"Last Week Tonight with John Oliver\" devoted to Donald Trump, who later became the President of the United States. It first aired on February 28, 2016, as part of the third episode of \"Last Week Tonight\"'s third season, when Trump was the frontrunner for the Republican Party nomination for the presidency. During the 22-minute segment, comedian John Oliver discusses Trump's 2016 presidential campaign and his career in business, outlining his campaign rhetoric, varying political positions and failed business ventures. He also says the Trump family name was changed at one point from the ancestral name \"Drumpf\".\n",
            "[ANSWER]:April 1, 1949\n",
            "[GENERATED QUESTION]:ANS w/BCS who receive an AMSL\n",
            "<|sample86|>\n",
            "[CONTEXT1]: The Golden Hour is a children's novel by Maiya Williams. It was first published in 2004 and is the first of the Golden Hour time travel series. It tells the story of Rowan Popplewell and his sister, Nina, who, while emotionally disturbed by the death of their mother, travel back in time to the French Revolution.\n",
            "[CONTEXT2]: Crime and Punishment (Russian: Преступлéние и наказáние , \"Prestupleniye i nakazaniye\"; ] ) is a novel by the Russian author Fyodor Dostoyevsky. It was first published in the literary journal \"The Russian Messenger\" in twelve monthly installments during 1866. Later, it was published in a single volume. It is the second of Dostoyevsky's full-length novels following his return from 5 years of exile in Siberia. \"Crime and Punishment\" is considered the first great novel of his \"mature\" period of writing.\n",
            "[ANSWER]:1866\n",
            "[GENERATED QUESTION]:Did the author of the \"La Plata Parad\n",
            "<|sample87|>\n",
            "[CONTEXT1]: Hermigua is a town and a municipality in the northeastern part of La Gomera in the province of Santa Cruz de Tenerife of the Canary Islands, Spain. It is located 12 km northwest of the island's capital, San Sebastián de la Gomera. The Garajonay National Park covers the southern part of the municipality.\n",
            "[CONTEXT2]: Garajonay National Park (Spanish: \"Parque nacional de Garajonay\" , ] ) is located in the center and north of the island of La Gomera, one of the Canary Islands (Spain). It was declared a national park in 1981 and a World Heritage Site by UNESCO in 1986. It occupies 40 km (15 sq mi) and it extends into each of the six municipalities on the island.\n",
            "[ANSWER]:Canary Islands, Spain\n",
            "[GENERATED QUESTION]:What is the population of Ceuta, Campe\n",
            "<|sample88|>\n",
            "[CONTEXT1]: Roald Dahl: Collected Stories is a hardcover edition of short-stories by Roald Dahl for adults. It was published in the US in October 2006 by Random House as part of the Everyman Library. The present volume includes for the first time all the stories in chronological order as established by Dahl's biographer, Jeremy Treglown, in consultation with the Dahl estate. A few of the short stories were not published chronologically in book form, but appeared later, collected in \"More Tales of the Unexpected\" (1980). The collection contains all of the short stories published in the following collections:\n",
            "[CONTEXT2]: The Collected Short Stories of Roald Dahl is a 1991 short story collection for adults by Roald Dahl. The collection, containing tales of macabre malevolence, comprises many of Dahl's stories seen in the television series \"Tales of the Unexpected\" and previously collected in \"Someone Like You\" (1953), \"Kiss, Kiss\" (1960), \"Twenty-Nine Kisses from Roald Dahl\" (1969), \"Ppo poo face\" (1974), and \"\" (1989).\n",
            "[ANSWER]:250 million\n",
            "[GENERATED QUESTION]:What books have Roald and 1983 published which were\n",
            "<|sample89|>\n",
            "[CONTEXT1]: Linda Mvusi (c. 1955 in Bloemfontein- ) is an actress and architect. Mvusi took an award for best actress at the 1988 Cannes Film Festival for her role in the film \"A World Apart\" which was directed by Chris Menges. Mvusi was the first South African to get a best Actress award at Cannes. Mvusi also shared in an award for excellence for her architecture on the Apartheid Museum.\n",
            "[CONTEXT2]: Second Best is a 1994 British film produced by Sarah Radclyffe and directed by Chris Menges. It closely follows the 1991 novel of the same name by David Cook, who also wrote the screenplay.\n",
            "[ANSWER]:director\n",
            "[GENERATED QUESTION]:Winter is coming to a close!\n",
            "[ANS\n",
            "<|sample90|>\n",
            "[CONTEXT1]: Chicago Public Media is a not-for-profit media company that operates as the primary National Public Radio member organization for Chicago. It owns three non-commercial educational FM broadcast stations and one FM translator, and produces the programs \"Wait Wait... Don't Tell Me!\" for NPR stations, \"This American Life\" which is self-distributed but uses PRX for distribution to other radio stations, and \"Sound Opinions\" for PRX. CPM is based at Navy Pier in Chicago.\n",
            "[CONTEXT2]: State media or state-owned media is media for mass communication which is \"controlled financially and editorially by the state.\" These news outlets may be the sole media outlet or may exist in competition with corporate and non-corporate media.\n",
            "[ANSWER]:The Conversation\n",
            "[GENERATED QUESTION]:Fifty Shades of Grey star Lena Headey\n",
            "<|sample91|>\n",
            "[CONTEXT1]: The Film Independent Spirit Awards (abbreviated \"Spirit Awards\" and originally known as the FINDIE or Friends of Independents Awards), founded in 1984, are awards dedicated to independent filmmakers. Winners were typically presented with acrylic glass pyramids containing suspended shoestrings representing the paltry budgets of independent films. Since 2006, winners have received a trophy depicting a bird with its wings spread sitting atop of a pole with the shoestrings from the previous design wrapped around the pole.\n",
            "[CONTEXT2]: The Independent Spirit Award for Best Cinematography is one of the annual awards given by Independent Spirit Awards, a non-profit organization dedicated to independent film and independent filmmakers.\n",
            "[ANSWER]:John Waters\n",
            "[GENERATED QUESTION]:Hello independent and independent film critics.\n",
            "<|sample92|>\n",
            "[CONTEXT1]: The Original Jam Sessions 1969 is a 2004 released album by Quincy Jones and Bill Cosby recorded as backing music for \"The Bill Cosby Show\" in 1969.\n",
            "[CONTEXT2]: Flamingo Las Vegas (formerly The Fabulous Flamingo and Flamingo Hilton Las Vegas) is a hotel and casino located on the Las Vegas Strip in Paradise, Nevada. It is owned and operated by Caesars Entertainment Corporation.\n",
            "[ANSWER]:Las Vegas Strip in Paradise\n",
            "[GENERATED QUESTION]:Sylvester McCoy\n",
            "<|endof\n",
            "<|sample93|>\n",
            "[CONTEXT1]: Phillips Distilling Company (est. 1912) is a Minneapolis, Minnesota-based distillery and house brand of liquors known for its omnipresence in the bars, taverns, and private shelves of the Great Plains. Brands such as UV Vodka and Prairie Vodka are becoming popular across the nation. Phillips produces a variety of liquors such as Vodka, Gin, Rum, Canadian whisky, Brandy and many flavors of Schnapps. In recent years, Phillips has branched out beyond standard liquors with a variety of specialty drinks, such as Revel Stoke Spiced Whisky (the original spiced whisky), Gin-Ka (a combination of gin and vodka), Phillips Union Whiskey, the 100 proof series of Schnapps (Hot, Blue, and Root Beer), and vodka such as UV Vodka and the handcrafted and organic Prairie Vodka. Phillips also produced an herbal liqueur, aptly named \"Black 100\" for its 50% alcohol by volume content and opaque black color, similar in texture and flavor to Schwartzhog or Jakob Steiner.\n",
            "[CONTEXT2]: Flaming beverages include cocktails and other mixed drinks that contain flammable, high-proof alcohol, which is ignited prior to consumption. The alcohol may be an integral part of the drink, or it may be floated as a thin layer across the top of the drink. The flames are mostly for dramatic flair. However, in combination with certain ingredients, the flavor of the drink is altered. Some flavors are enhanced, and it may impart a toasted flavor to some drinks.\n",
            "[ANSWER]:no\n",
            "[GENERATED QUESTION]:Just what uses an alcohol recipe to get a gin\n",
            "<|sample94|>\n",
            "[CONTEXT1]: The London International Documentary Festival (or LIDF) is an annual documentary film festival that takes place in the months of March and April every year. The event is presented in association with the London Review of Books.\n",
            "[CONTEXT2]: The International Documentary Film Festival Docville is an annual documentary film festival set in Leuven, Belgium.\n",
            "[ANSWER]:March and April\n",
            "[GENERATED QUESTION]:Towards which city is a documentary film film\n",
            "<|sample95|>\n",
            "[CONTEXT1]: Scott's Run Nature Preserve is a nature preserve in Fairfax County, Virginia, United States. Located in McLean, it is bordered by Virginia State Route 193 to its south, Interstate 495 to its east and the Potomac River to its north. It encompasses 336 acre of woodland with its namesake, Scott's Run, flowing through its west side. Scott's Run originates in nearby Tysons Corner and enters the Potomac on the northwest side of the preserve. The preserve is noted for including eastern hemlocks among its plant life, which are rare for the area. It is a popular destination for recreation and hiking and is operated by the Fairfax County Park Authority.\n",
            "[CONTEXT2]: Tysons Galleria is a three-level super-regional mall owned by General Growth Properties located at 2001 International Drive, McLean, Virginia, in Tysons Corner. It is the second-largest mall in McLean/Tysons Corner, and one of the largest in the Washington metropolitan area.\n",
            "[ANSWER]:Fairfax County\n",
            "[GENERATED QUESTION]:What mall in Fairfax County, Virginia, would be\n",
            "<|sample96|>\n",
            "[CONTEXT1]: Cardinal Health, Inc. is a Fortune 500 health care services company based in Dublin, Ohio. The company specializes in distribution of pharmaceuticals and medical products, serving more than 100,000 locations. The company also manufactures medical and surgical products, including gloves, surgical apparel and fluid management products. In addition, it operates the nation’s largest network of radiopharmacies. Cardinal Health provides medical products to over 75 percent of hospitals in the United States. In December 2013, it was announced that Cardinal Health would team up with CVS Caremark, which would form the largest generic drug sourcing operation in the United States. The venture was named Red Oak Sourcing and began operations in July 2014.\n",
            "[CONTEXT2]: Terren Scott Peizer dubbed the \"Zelig of Wall Street\" is currently the Chairman of his personal Los Angeles-based investment company, Acuitas Group Holdings (AGH), which in turn owns 100% of Crede Capital Group (CCG) which invests in public companies, and provides growth capital to small and medium-sized enterprises. Since its inception in June 2009, CCG has provided companies with capital commitments and funding in excess of $1.2 Billion. Besides its ownership of Crede Capital, Acuitas Group owns 72% of Catasys, Inc., a provider of proprietary big data based analytics and predictive modeling driven behavioral health management services for health plans; and owns 100% of NeurMedix, Inc., a biotech company that develops and commercializes disease modifying small molecules to treat neuro-degenerative diseases, such as Parkinson’s disease, Alzheimer’s disease, Migraine disease, Huntington’s disease, ALS, MS, Epilepsy, Traumatic Brain Injury, and Retina disease. Peizer is Founder, Chairman of the three Acuitas companies, and is CEO of Catasys, Inc. and Crede Capital Group. Having developed a bioscience and healthcare expertise, Peizer’s Crede Capital became the largest shareholder in 22nd Century Group, Inc., a public company that is commercializing bio-plant technology to harm-reduce tobacco, creating very low nicotine and very low tar tobacco products which affect levels of addiction and cancer causing carcinogens. On October 1, 2015 New England Journal of Medicine published a landmark study on the company’s very low nicotine spectrum cigarettes. In October 2014, Peizer and 22nd Century formed a JV to commercialize the company’s products in China with China National Tobacco Company, the largest tobacco company in the world and the largest monopoly in China. China represents over 50% of the worldwide tobacco market.\n",
            "[ANSWER]:IT products and services\n",
            "[GENERATED QUESTION]:What sells so much good tobacco?\n",
            "[ANS\n",
            "<|sample97|>\n",
            "[CONTEXT1]: Aryanto Yuniawan (born June 18, 1977 in Magelang; age 40) is Chief Executive Officer of PT Mataram Surya Visi Sinema, a multimedia and animation movie company located in Jogja Indonesia. Ary (his nickname) is best known as a director of Battle of Surabaya, the first 2D animation movie in Indonesia which got some awards i.e. Gold Remi Award USA 2016, GrandPrize Winner of SICAF 2016 in South Korea, Winner of Nice International Filmmaker Festival 2017 in France, Winner of Nioda International Film Festival in India and others. He is also acclaimed as a writer, a producer, and currently working on several articles and books related to his job and hobby. He started his career from directing and producing independent animation films including music videos. He was trusted to be one of the juries of several film festivals such as Festival Film Indonesia (FFI 2016), Noida International Film Festival (NIFF 2016), and Seoul International Cartoon and Animation Festival (SICAF 2017).\n",
            "[CONTEXT2]: Seasoned Veteran is the third studio album by American rapper Richie Rich. It was released November 5, 1996 on Def Jam Recordings, and to date is the only major label release for the artist. The album was produced by Ali Malik, DJ Daryl, Doug Rasheed, Jermaine Dupri, Lev Berlak, Mike Mosley, Richie Rich and Rick Rock. It peaked at number 11 on the \"Billboard\" Top R&B/Hip-Hop Albums and at number 35 on the \"Billboard\" 200. Two of the singles released, \"Let's Ride\" and \"Do G's Get To Go To Heaven?\", both appeared on multiple \"Billboard\" singles charts. The album features guest performances by 2Pac, E-40, Luniz, D'wayne Wiggins, T-Boz, and Rame Royal of Rhythm & Green.\n",
            "[ANSWER]:Levni Yilmaz\n",
            "[GENERATED QUESTION]:Grizzle Yilmaz worked with actress\n",
            "<|sample98|>\n",
            "[CONTEXT1]: The visa policy of Hong Kong deals with the requirements in which a foreign national wishing to enter the Hong Kong Special Administrative Region must meet to obtain an entry permit or visa, which depending on the traveller's nationality, may be required to travel to, enter, and remain in the Hong Kong Special Administrative Region. Visitors from over 145 countries are permitted visa-free entry for periods ranging from 7 to 180 days, to the Hong Kong Special Administrative Region for tourism or certain business-related activities. All visitors must hold a passport valid for more than 1 month.\n",
            "[CONTEXT2]: Rabat (Berber: , Arabic: الرِّبَاط‎ ‎ , Moroccan Arabic: رّباط‎ ‎ ) is the capital city of Morocco and its second largest city with an urban population of approximately 580,000 (2014) and a metropolitan population of over 1.2 million. It is also the capital city of the Rabat-Salé-Kénitra administrative region.\n",
            "[ANSWER]:Beijing\n",
            "[GENERATED QUESTION]:Do many Muslims in China have a UN scari\n",
            "<|sample99|>\n",
            "[CONTEXT1]: Fuding Railway Station () is a railway station located in Fuding City, Ningde, Fujian Province, China, on the Wenzhou-Fuzhou Railway operated by the Nanchang Railway Bureau, China Railway Corporation.\n",
            "[CONTEXT2]: Yingkou () is a prefecture-level city of Liaoning province, People's Republic of China. It is a port city of the Bohai Sea, and is the location of the mouth of the Liao River.\n",
            "[ANSWER]:no\n",
            "[GENERATED QUESTION]:What county in the French Alps is located in the\n"
          ]
        }
      ]
    },
    {
      "cell_type": "code",
      "metadata": {
        "id": "wHFzw-601y8a"
      },
      "source": [
        ""
      ],
      "execution_count": null,
      "outputs": []
    }
  ]
}